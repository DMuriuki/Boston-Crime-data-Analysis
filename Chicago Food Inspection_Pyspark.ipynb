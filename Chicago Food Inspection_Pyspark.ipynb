{
 "cells": [
  {
   "cell_type": "code",
   "execution_count": 1,
   "metadata": {},
   "outputs": [],
   "source": [
    "import pyspark\n",
    "from pyspark.sql import SparkSession\n",
    "spark = SparkSession.builder.getOrCreate()"
   ]
  },
  {
   "cell_type": "code",
   "execution_count": 2,
   "metadata": {},
   "outputs": [],
   "source": [
    "data=spark.read.csv('C:/Users/dicks/Documents/Food_Inspections.csv', header=True, inferSchema=True)"
   ]
  },
  {
   "cell_type": "code",
   "execution_count": 3,
   "metadata": {},
   "outputs": [
    {
     "name": "stdout",
     "output_type": "stream",
     "text": [
      "+-------------+--------------------+--------------------+---------+-------------+-------------+--------------------+-------+-----+-----+---------------+---------------+---------------+--------------------+-----------+------------+--------------------+\n",
      "|Inspection ID|            DBA Name|            AKA Name|License #|Facility Type|         Risk|             Address|   City|State|  Zip|Inspection Date|Inspection Type|        Results|          Violations|   Latitude|   Longitude|            Location|\n",
      "+-------------+--------------------+--------------------+---------+-------------+-------------+--------------------+-------+-----+-----+---------------+---------------+---------------+--------------------+-----------+------------+--------------------+\n",
      "|      2345239|SAORY RESTAURANT,...|SAORY RESTAURANT,...|  2523066|   Restaurant|Risk 1 (High)|2700 S TRUMBULL AVE |CHICAGO|   IL|60623|      11/7/2019|        Canvass|Out of Business|                null|41.84251235|-87.71122481|(-87.711224813848...|\n",
      "|      2345237|    L & M FINE FOODS|    L & M FINE FOODS|  2631146|Grocery Store|Risk 1 (High)|4361-4365 N LINCO...|CHICAGO|   IL|60618|      11/7/2019|        License|           Pass|51. PLUMBING INST...|41.96127036|  -87.683589|(-87.683588997973...|\n",
      "|      2321190|CHICAGO'S FINEST ...|CHICAGO'S FINEST ...|  2694556|   Restaurant|Risk 1 (High)|   234 S WABASH AVE |CHICAGO|   IL|60604|      11/6/2019|        License|           Fail|33. PROPER COOLIN...|41.87867435| -87.6262423|(-87.626242295344...|\n",
      "|      2321198|CHICAGO'S FINEST ...|CHICAGO'S FINEST ...|  2694557|   Restaurant| Risk 3 (Low)|   234 S WABASH AVE |CHICAGO|   IL|60604|      11/6/2019|        License|           Fail|                null|41.87867435| -87.6262423|(-87.626242295344...|\n",
      "|      2321165|           LA HUMITA|           LA HUMITA|  1622351|   Restaurant|Risk 1 (High)|  3466 N PULASKI RD |CHICAGO|   IL|60641|      11/6/2019|        Canvass|       No Entry|                null|41.94467796|-87.72749565|(-87.727495649700...|\n",
      "+-------------+--------------------+--------------------+---------+-------------+-------------+--------------------+-------+-----+-----+---------------+---------------+---------------+--------------------+-----------+------------+--------------------+\n",
      "only showing top 5 rows\n",
      "\n"
     ]
    }
   ],
   "source": [
    "data.show(5)"
   ]
  },
  {
   "cell_type": "code",
   "execution_count": 5,
   "metadata": {},
   "outputs": [
    {
     "name": "stdout",
     "output_type": "stream",
     "text": [
      "root\n",
      " |-- Inspection ID: integer (nullable = true)\n",
      " |-- DBA Name: string (nullable = true)\n",
      " |-- AKA Name: string (nullable = true)\n",
      " |-- License #: integer (nullable = true)\n",
      " |-- Facility Type: string (nullable = true)\n",
      " |-- Risk: string (nullable = true)\n",
      " |-- Address: string (nullable = true)\n",
      " |-- City: string (nullable = true)\n",
      " |-- State: string (nullable = true)\n",
      " |-- Zip: integer (nullable = true)\n",
      " |-- Inspection Date: string (nullable = true)\n",
      " |-- Inspection Type: string (nullable = true)\n",
      " |-- Results: string (nullable = true)\n",
      " |-- Violations: string (nullable = true)\n",
      " |-- Latitude: string (nullable = true)\n",
      " |-- Longitude: string (nullable = true)\n",
      " |-- Location: string (nullable = true)\n",
      "\n"
     ]
    }
   ],
   "source": [
    "data.printSchema()"
   ]
  },
  {
   "cell_type": "code",
   "execution_count": 4,
   "metadata": {},
   "outputs": [],
   "source": [
    "#Converting Latitude and Longitude to string type\n",
    "#Converting inspection date into datetime object\n",
    "from pyspark.sql.types import StringType\n",
    "data= data.withColumn(\"Longitude\", data[\"Longitude\"].cast(StringType()))\n",
    "data= data.withColumn(\"Latitude\", data[\"Latitude\"].cast(StringType()))"
   ]
  },
  {
   "cell_type": "code",
   "execution_count": 6,
   "metadata": {
    "scrolled": true
   },
   "outputs": [
    {
     "name": "stdout",
     "output_type": "stream",
     "text": [
      "root\n",
      " |-- Inspection ID: integer (nullable = true)\n",
      " |-- DBA Name: string (nullable = true)\n",
      " |-- AKA Name: string (nullable = true)\n",
      " |-- License #: integer (nullable = true)\n",
      " |-- Facility Type: string (nullable = true)\n",
      " |-- Risk: string (nullable = true)\n",
      " |-- Address: string (nullable = true)\n",
      " |-- City: string (nullable = true)\n",
      " |-- State: string (nullable = true)\n",
      " |-- Zip: integer (nullable = true)\n",
      " |-- Inspection Date: date (nullable = true)\n",
      " |-- Inspection Type: string (nullable = true)\n",
      " |-- Results: string (nullable = true)\n",
      " |-- Violations: string (nullable = true)\n",
      " |-- Latitude: string (nullable = true)\n",
      " |-- Longitude: string (nullable = true)\n",
      " |-- Location: string (nullable = true)\n",
      "\n"
     ]
    }
   ],
   "source": [
    "#Changing Date column to datetime format and printing the dataframe schema\n",
    "import pyspark.sql.functions as f\n",
    "data=(data.withColumn('Inspection Date', f.to_date('Inspection Date','MM/d/yyyy')\n",
    "                     )\n",
    "     )\n",
    "data.printSchema()"
   ]
  },
  {
   "cell_type": "markdown",
   "metadata": {},
   "source": [
    "#### Exploratory Analysis: SQL Transformations"
   ]
  },
  {
   "cell_type": "code",
   "execution_count": 7,
   "metadata": {},
   "outputs": [],
   "source": [
    "data.createOrReplaceTempView('data_view')\n"
   ]
  },
  {
   "cell_type": "code",
   "execution_count": 8,
   "metadata": {},
   "outputs": [
    {
     "name": "stdout",
     "output_type": "stream",
     "text": [
      "+------+--------------------+\n",
      "| Count|             Results|\n",
      "+------+--------------------+\n",
      "|105796|                Pass|\n",
      "| 37868|                Fail|\n",
      "| 27106|  Pass w/ Conditions|\n",
      "| 16847|     Out of Business|\n",
      "|  6234|            No Entry|\n",
      "|  1877|           Not Ready|\n",
      "|    68|Business Not Located|\n",
      "+------+--------------------+\n",
      "\n"
     ]
    }
   ],
   "source": [
    "#Count of number of inspected facilities per result category\n",
    "(spark.sql('''\n",
    "SELECT COUNT(Results) AS Count, Results FROM data_view GROUP BY Results ORDER BY Count DESC\n",
    "''').show()\n",
    ")"
   ]
  },
  {
   "cell_type": "code",
   "execution_count": 9,
   "metadata": {},
   "outputs": [
    {
     "name": "stdout",
     "output_type": "stream",
     "text": [
      "+--------------------+---------------+\n",
      "|Number_of_Facilities|           Risk|\n",
      "+--------------------+---------------+\n",
      "|              140384|  Risk 1 (High)|\n",
      "|               38227|Risk 2 (Medium)|\n",
      "|               17082|   Risk 3 (Low)|\n",
      "|                  73|           null|\n",
      "|                  30|            All|\n",
      "+--------------------+---------------+\n",
      "\n"
     ]
    }
   ],
   "source": [
    "#Count of number of restaurants per result category\n",
    "(spark.sql('''\n",
    "SELECT COUNT(*) AS Number_of_Facilities, Risk FROM data_view GROUP BY Risk ORDER BY Number_of_Facilities DESC\n",
    "''').show()\n",
    ")"
   ]
  },
  {
   "cell_type": "code",
   "execution_count": 24,
   "metadata": {},
   "outputs": [
    {
     "name": "stdout",
     "output_type": "stream",
     "text": [
      "+--------------------+--------------------+\n",
      "|Number_of_Facilities|          Violations|\n",
      "+--------------------+--------------------+\n",
      "|                  11|32. FOOD AND NON-...|\n",
      "|                  10|45. FOOD HANDLER ...|\n",
      "|                  10|30. FOOD IN ORIGI...|\n",
      "|                   7|45. FOOD HANDLER ...|\n",
      "|                   7|2. FACILITIES TO ...|\n",
      "|                   7|3. MANAGEMENT, FO...|\n",
      "|                   7|32. FOOD AND NON-...|\n",
      "|                   6|3. MANAGEMENT, FO...|\n",
      "|                   6|40. REFRIGERATION...|\n",
      "|                   6|38. VENTILATION: ...|\n",
      "|                   5|2. FACILITIES TO ...|\n",
      "|                   5|41. PREMISES MAIN...|\n",
      "|                   5|2. FACILITIES TO ...|\n",
      "|                   5|45. FOOD HANDLER ...|\n",
      "|                   5|35. WALLS, CEILIN...|\n",
      "+--------------------+--------------------+\n",
      "\n"
     ]
    }
   ],
   "source": [
    "# Top 10 Violation offences in Chicago\n",
    "(spark.sql('''\n",
    "SELECT COUNT(*) AS Number_of_Facilities, Violations FROM data_view WHERE Violations NOT IN (\"null\") GROUP BY Violations ORDER BY Number_of_Facilities DESC LIMIT 15\n",
    "''').show()\n",
    ")"
   ]
  },
  {
   "cell_type": "code",
   "execution_count": 11,
   "metadata": {},
   "outputs": [
    {
     "name": "stdout",
     "output_type": "stream",
     "text": [
      "+---------------+------------------+--------------------+\n",
      "|           Risk|           Results|Number_of_Facilities|\n",
      "+---------------+------------------+--------------------+\n",
      "|  Risk 1 (High)|              Pass|               77869|\n",
      "|  Risk 1 (High)|              Fail|               26753|\n",
      "|  Risk 1 (High)|Pass w/ Conditions|               21112|\n",
      "|Risk 2 (Medium)|              Pass|               20536|\n",
      "|Risk 2 (Medium)|              Fail|                7352|\n",
      "|Risk 2 (Medium)|Pass w/ Conditions|                5088|\n",
      "|   Risk 3 (Low)|              Pass|                7379|\n",
      "|   Risk 3 (Low)|              Fail|                3736|\n",
      "|   Risk 3 (Low)|Pass w/ Conditions|                 906|\n",
      "+---------------+------------------+--------------------+\n",
      "\n"
     ]
    }
   ],
   "source": [
    "(spark.sql('''\n",
    "SELECT Risk, Results, COUNT(*) AS Number_of_Facilities FROM data_view\n",
    "WHERE Results IN ('Pass', 'Pass w/ Conditions', 'Fail') AND Risk NOT IN ('null','All')\n",
    "GROUP BY Risk, Results ORDER BY Risk, Number_of_Facilities DESC \n",
    "''').show()\n",
    ")"
   ]
  },
  {
   "cell_type": "code",
   "execution_count": 12,
   "metadata": {},
   "outputs": [
    {
     "name": "stdout",
     "output_type": "stream",
     "text": [
      "+--------------------+--------------------+\n",
      "|       Facility Type|Number_of_Facilities|\n",
      "+--------------------+--------------------+\n",
      "|          Restaurant|              130520|\n",
      "|       Grocery Store|               24936|\n",
      "|              School|               12110|\n",
      "|Children's Servic...|                3077|\n",
      "|              Bakery|                2868|\n",
      "|Daycare (2 - 6 Ye...|                2690|\n",
      "|Daycare Above and...|                2369|\n",
      "|      Long Term Care|                1349|\n",
      "|            Catering|                1192|\n",
      "|Mobile Food Dispe...|                 869|\n",
      "|              Liquor|                 856|\n",
      "|  Daycare Combo 1586|                 751|\n",
      "|Mobile Food Preparer|                 631|\n",
      "|        Golden Diner|                 568|\n",
      "|            Hospital|                 548|\n",
      "|           Wholesale|                 535|\n",
      "|              TAVERN|                 282|\n",
      "|Daycare (Under 2 ...|                 250|\n",
      "|       Special Event|                 218|\n",
      "|Shared Kitchen Us...|                 199|\n",
      "+--------------------+--------------------+\n",
      "only showing top 20 rows\n",
      "\n"
     ]
    }
   ],
   "source": [
    "#Count of Facilities Inspected excluding the null values\n",
    "(spark.sql('''\n",
    "SELECT `Facility Type`, COUNT(*) AS Number_of_Facilities FROM data_view\n",
    "WHERE `Facility Type` NOT IN (\"null\")\n",
    "GROUP BY `Facility Type` ORDER BY Number_of_Facilities DESC \n",
    "''').show()\n",
    ")"
   ]
  },
  {
   "cell_type": "markdown",
   "metadata": {},
   "source": [
    "### Feature Engineering & Model Fitting"
   ]
  },
  {
   "cell_type": "code",
   "execution_count": 13,
   "metadata": {
    "scrolled": true
   },
   "outputs": [
    {
     "name": "stdout",
     "output_type": "stream",
     "text": [
      "+--------------------+---------------+--------------------+-------+\n",
      "|            DBA Name|           Risk|          Violations|Results|\n",
      "+--------------------+---------------+--------------------+-------+\n",
      "|    L & M FINE FOODS|  Risk 1 (High)|51. PLUMBING INST...|   Pass|\n",
      "|CHICAGO'S FINEST ...|  Risk 1 (High)|33. PROPER COOLIN...|   Fail|\n",
      "|CHICAGO'S FINEST ...|   Risk 3 (Low)|                null|   Fail|\n",
      "|       NOMAD-CHICAGO|Risk 2 (Medium)|                null|   Pass|\n",
      "|           STARBUCKS|Risk 2 (Medium)|                null|   Pass|\n",
      "+--------------------+---------------+--------------------+-------+\n",
      "only showing top 5 rows\n",
      "\n"
     ]
    }
   ],
   "source": [
    "#Filtering data: filtering out those food joints whose results were neither pass, pass with conditions or fail\n",
    "dat=data.filter('Results IN (\"Fail\",\"Pass\",\"Pass w/ Conditions\")').select('DBA Name','Risk','Violations','Results')\n",
    "dat.show(5)\n",
    " "
   ]
  },
  {
   "cell_type": "code",
   "execution_count": 20,
   "metadata": {},
   "outputs": [
    {
     "data": {
      "text/plain": [
       "DataFrame[DBA Name: string, Risk: string, Violations: string, Results: string]"
      ]
     },
     "execution_count": 20,
     "metadata": {},
     "output_type": "execute_result"
    }
   ],
   "source": [
    "dat.na.drop(subset=[\"Violations\"])"
   ]
  },
  {
   "cell_type": "code",
   "execution_count": 21,
   "metadata": {},
   "outputs": [],
   "source": [
    "from pyspark.sql.functions import UserDefinedFunction\n",
    "from pyspark.sql.types import *\n",
    "\"\"\"Converting the existing dataframe(df) into a new dataframe where each inspection is represented as a label-violations pair. \n",
    "In this case, a label of 0.0 represents a failure, a label of 1.0 represents a success, \n",
    "and a label of -1.0 represents some results besides those two\"\"\"\n",
    "def labelForResults(s):\n",
    "    if s == 'Fail':\n",
    "        return 0.0\n",
    "    elif s == 'Pass w/ Conditions' or s == 'Pass':\n",
    "        return 1.0\n",
    "    else:\n",
    "        return -1.0\n",
    "label = UserDefinedFunction(labelForResults, DoubleType())\n",
    "labeledData = data.select(label(data.Results).alias('label'), data.Violations).where('label >= 0')"
   ]
  },
  {
   "cell_type": "code",
   "execution_count": 22,
   "metadata": {},
   "outputs": [
    {
     "data": {
      "text/plain": [
       "[Row(label=1.0, Violations='51. PLUMBING INSTALLED; PROPER BACKFLOW DEVICES - Comments: 3-COMPARTMENT SINK STOPPERS NOT WORKING ALSO OBSERVED 1ST FLOOR PREP AREA HANDWASH BOWL FAUCET LEAKING. MUST PROVIDE WORKING STOPPERS (X3) FOR 3-COMPARTMENT SINK AND MAINTAIN 1ST FLOOR HANDWASH BOWL.')]"
      ]
     },
     "execution_count": 22,
     "metadata": {},
     "output_type": "execute_result"
    }
   ],
   "source": [
    "#Let's view one row of the labeled data\n",
    "labeledData.take(1)"
   ]
  },
  {
   "cell_type": "code",
   "execution_count": 34,
   "metadata": {},
   "outputs": [
    {
     "data": {
      "text/plain": [
       "['Risk 1 (High)', 'Risk 2 (Medium)', 'Risk 3 (Low)', 'All']"
      ]
     },
     "execution_count": 34,
     "metadata": {},
     "output_type": "execute_result"
    }
   ],
   "source": [
    "\n",
    "from pyspark.ml.feature import Bucketizer, StringIndexer, VectorAssembler, IndexToString\n",
    "risk_idx = StringIndexer(inputCol = \"Risk\", outputCol=\"Risk_idx\",handleInvalid=\"keep\")\n",
    "label_idx = StringIndexer(inputCol=\"Results\", outputCol=\"Label\",handleInvalid=\"keep\")\n",
    "#Create labels list to decode predictions \n",
    "resultLabels= label_idx.fit(dat).labels\n",
    "riskLabels=risk_idx.fit(dat).labels\n",
    "riskLabels"
   ]
  },
  {
   "cell_type": "code",
   "execution_count": 35,
   "metadata": {},
   "outputs": [],
   "source": [
    "#create a  a single vector combining all input features\n",
    "from pyspark.ml.feature import VectorAssembler\n",
    "va = VectorAssembler(inputCols=['Label'],outputCol=\"features\") "
   ]
  },
  {
   "cell_type": "code",
   "execution_count": 36,
   "metadata": {},
   "outputs": [
    {
     "name": "stdout",
     "output_type": "stream",
     "text": [
      "119551\n",
      "51219\n"
     ]
    }
   ],
   "source": [
    "train_df,test_df=dat.randomSplit([0.7,0.3])\n",
    "print(train_df.count()) \n",
    "print(test_df.count())\n"
   ]
  },
  {
   "cell_type": "code",
   "execution_count": 37,
   "metadata": {
    "scrolled": true
   },
   "outputs": [
    {
     "name": "stdout",
     "output_type": "stream",
     "text": [
      "+--------------------+-----+----------+------------------+--------------+\n",
      "|            DBA Name|Label|prediction|           Results|predictedLabel|\n",
      "+--------------------+-----+----------+------------------+--------------+\n",
      "|    11 DEGREES NORTH|  2.0|       0.0|Pass w/ Conditions|          Pass|\n",
      "|       11 DINING,LLC|  2.0|       0.0|Pass w/ Conditions|          Pass|\n",
      "|1492 CUBAN FUSION...|  2.0|       0.0|Pass w/ Conditions|          Pass|\n",
      "|        1800 LIQUORS|  1.0|       0.0|              Fail|          Pass|\n",
      "|    2 ASIAN BROTHERS|  1.0|       0.0|              Fail|          Pass|\n",
      "| 2934 W DIVERSEY LLC|  1.0|       0.0|              Fail|          Pass|\n",
      "|            3 ABEJAS|  1.0|       0.0|              Fail|          Pass|\n",
      "|3 JJJ'S BETTER TA...|  1.0|       0.0|              Fail|          Pass|\n",
      "|4 CAMINOS RESTAUR...|  2.0|       0.0|Pass w/ Conditions|          Pass|\n",
      "|4 EVER YOUNG DAY ...|  2.0|       0.0|Pass w/ Conditions|          Pass|\n",
      "|         4 YOLKS,INC|  1.0|       0.0|              Fail|          Pass|\n",
      "|4301 ALLSTYLE BUFFET|  2.0|       0.0|Pass w/ Conditions|          Pass|\n",
      "|4700 PETE'S FRESH...|  2.0|       0.0|Pass w/ Conditions|          Pass|\n",
      "|    5 RABANITOS, INC|  2.0|       0.0|Pass w/ Conditions|          Pass|\n",
      "|5 STARS MINI MART...|  1.0|       0.0|              Fail|          Pass|\n",
      "|5077 KIKO MEAT MA...|  2.0|       0.0|Pass w/ Conditions|          Pass|\n",
      "|      5411 EMPANADAS|  1.0|       0.0|              Fail|          Pass|\n",
      "|        55TH MAXWELL|  1.0|       0.0|              Fail|          Pass|\n",
      "|        55TH MAXWELL|  1.0|       0.0|              Fail|          Pass|\n",
      "|55TH ST HAROLD'S ...|  1.0|       0.0|              Fail|          Pass|\n",
      "+--------------------+-----+----------+------------------+--------------+\n",
      "only showing top 20 rows\n",
      "\n",
      "Accuracy: 61.97895312286457 %\n"
     ]
    }
   ],
   "source": [
    "from pyspark.ml.classification import DecisionTreeClassifier, DecisionTreeClassificationModel\n",
    "from pyspark.ml.pipeline import Pipeline\n",
    "from pyspark.ml.evaluation import MulticlassClassificationEvaluator\n",
    "dt= DecisionTreeClassifier(labelCol=\"Risk_idx\", featuresCol=\"features\")\n",
    "lc = IndexToString(inputCol=\"prediction\",outputCol=\"predictedLabel\",labels=resultLabels)\n",
    "dt_pipeline = Pipeline(stages=[label_idx,risk_idx,va,dt,lc])\n",
    "dtModel =dt_pipeline.fit(train_df) \n",
    "resultDF = dtModel.transform(test_df)\n",
    "#Look for observations where prediction did not match\n",
    "resultDF.filter(\"Label != prediction\").select( \"DBA Name\",\"Label\",\"prediction\",\"Results\",\"predictedLabel\").show() \n",
    "# Calculation of the accuracy of our classifier\n",
    "predictionAndLabels = resultDF.select(\"prediction\", \"label\") \n",
    "evaluator = MulticlassClassificationEvaluator().setMetricName(\"accuracy\")\n",
    "print (\"Accuracy:\",(evaluator.evaluate(predictionAndLabels))*100,\"%\")\n"
   ]
  }
 ],
 "metadata": {
  "kernelspec": {
   "display_name": "Python 3",
   "language": "python",
   "name": "python3"
  },
  "language_info": {
   "codemirror_mode": {
    "name": "ipython",
    "version": 3
   },
   "file_extension": ".py",
   "mimetype": "text/x-python",
   "name": "python",
   "nbconvert_exporter": "python",
   "pygments_lexer": "ipython3",
   "version": "3.7.1"
  }
 },
 "nbformat": 4,
 "nbformat_minor": 2
}
